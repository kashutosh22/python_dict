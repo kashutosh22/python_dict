{
 "cells": [
  {
   "cell_type": "code",
   "execution_count": 8,
   "id": "9ef85101",
   "metadata": {},
   "outputs": [
    {
     "name": "stdout",
     "output_type": "stream",
     "text": [
      "{'Ten': 10, 'Twenty': 20, 'Thirty': 30}\n"
     ]
    }
   ],
   "source": [
    "# 1. WAP to convert two given lists in dictionary.\n",
    "\n",
    "keys = ['Ten', 'Twenty', 'Thirty']\n",
    "values = [10, 20, 30]\n",
    "\n",
    "# soln 1. :- \n",
    "out_dict = {}   # by updating values into empty dictinary.\n",
    "for i in range(len(keys)):\n",
    "    out_dict.update({keys[i] : values[i]})\n",
    "print(out_dict)"
   ]
  },
  {
   "cell_type": "code",
   "execution_count": 9,
   "id": "5574c5e1",
   "metadata": {},
   "outputs": [
    {
     "name": "stdout",
     "output_type": "stream",
     "text": [
      "{'Ten': 10, 'Twenty': 20, 'Thirty': 30}\n"
     ]
    }
   ],
   "source": [
    "# soln 2:-\n",
    "keys = ['Ten', 'Twenty', 'Thirty']\n",
    "values = [10, 20, 30]\n",
    "\n",
    "dictionary = dict(zip(keys,values))  # by using zip function\n",
    "print(dictionary)\n"
   ]
  },
  {
   "cell_type": "code",
   "execution_count": null,
   "id": "7332a223",
   "metadata": {},
   "outputs": [],
   "source": [
    "    "
   ]
  },
  {
   "cell_type": "code",
   "execution_count": 2,
   "id": "50513a6c",
   "metadata": {},
   "outputs": [
    {
     "name": "stdout",
     "output_type": "stream",
     "text": [
      "{'Ten': 10, 'Twenty': 20, 'Thirty': 30, 'Fourty': 40, 'Fifty': 50}\n"
     ]
    }
   ],
   "source": [
    "# 2. Merge 2 different into ane single dictionary.\n",
    "\n",
    "\n",
    "# soln 1 :-\n",
    "dict1 = {'Ten': 10, 'Twenty': 20, 'Thirty': 30}\n",
    "dict2 = {'Thirty': 30, 'Fourty': 40, 'Fifty': 50}\n",
    "\n",
    "dict1.update(dict2)  # by updating any one given dictionary.\n",
    "print(dict1)\n"
   ]
  },
  {
   "cell_type": "code",
   "execution_count": 4,
   "id": "b92e7b8f",
   "metadata": {},
   "outputs": [
    {
     "name": "stdout",
     "output_type": "stream",
     "text": [
      "{'Ten': 10, 'Twenty': 20, 'Thirty': 30, 'Fourty': 40, 'Fifty': 50}\n"
     ]
    }
   ],
   "source": [
    "# soln 2 :-\n",
    "\n",
    "dict1 = {'Ten': 10, 'Twenty': 20, 'Thirty': 30}\n",
    "dict2 = {'Thirty': 30, 'Fourty': 40, 'Fifty': 50}\n",
    "\n",
    "dict3 = {**dict1, **dict2} # by adding both dictionaries into a new dictionary.\n",
    "print(dict3)"
   ]
  },
  {
   "cell_type": "code",
   "execution_count": null,
   "id": "6e690242",
   "metadata": {},
   "outputs": [],
   "source": []
  },
  {
   "cell_type": "code",
   "execution_count": 53,
   "id": "aca71dba",
   "metadata": {},
   "outputs": [
    {
     "name": "stdout",
     "output_type": "stream",
     "text": [
      "Marks in Economics =  75\n"
     ]
    }
   ],
   "source": [
    "# 3. WAP to access a specific element of given dictionary.\n",
    "     # Select marks of studenet in Economics.\n",
    "\n",
    "sampleDict = {\"Class\": {\"Student\": {\"Name\": \"Shaun\",\"Marks\": {\"Psycology\": 85,\"Economics\": 75}}}}\n",
    "\n",
    "Marks = sampleDict['Class'][\"Student\"]['Marks']['Economics']\n",
    "print('Marks in Economics = ', Marks)"
   ]
  },
  {
   "cell_type": "code",
   "execution_count": null,
   "id": "06584982",
   "metadata": {},
   "outputs": [],
   "source": []
  },
  {
   "cell_type": "code",
   "execution_count": 37,
   "id": "856d6713",
   "metadata": {},
   "outputs": [
    {
     "name": "stdout",
     "output_type": "stream",
     "text": [
      "{'Ramesh': {'Coach': 'B5', 'Berth': 'lower'}, 'Michelle': {'Coach': 'B5', 'Berth': 'lower'}, 'Parvez': {'Coach': 'B5', 'Berth': 'lower'}}\n"
     ]
    }
   ],
   "source": [
    "# 4. WAP to give default values into a dictionary.\n",
    "\n",
    "senior_passanger = ['Ramesh', 'Michelle', 'Parvez']\n",
    "defalut_seat = {'Coach' : 'B5', 'Berth' : 'lower'}\n",
    "\n",
    "output = dict.fromkeys(senior_passanger, defalut_seat) # use fromkeys function.\n",
    "\n",
    "print(output)"
   ]
  },
  {
   "cell_type": "code",
   "execution_count": null,
   "id": "c8cb2ae7",
   "metadata": {},
   "outputs": [],
   "source": []
  },
  {
   "cell_type": "code",
   "execution_count": 52,
   "id": "a68834a7",
   "metadata": {},
   "outputs": [
    {
     "name": "stdout",
     "output_type": "stream",
     "text": [
      "{'Name': 'Kunal', 'Designation': 'Data Scientist', 'Salary': 80000}\n"
     ]
    }
   ],
   "source": [
    "# 5. WAP to fetch required keys from a dictionary.\n",
    "\n",
    "emplyee = {\"Name\": \"Kunal\", \"age\": 28, \"Designation\": \"Data Scientist\", \"Salary\": 80000, \"City\": \"Banglore\"}\n",
    "\n",
    "keys =['Name', \"Designation\", 'Salary']\n",
    "result = {}    # create a new key and check the required keys in given list and add them into new list.\n",
    "\n",
    "for k in keys:\n",
    "    result.update({k : emplyee[k]})\n",
    "print(result)"
   ]
  },
  {
   "cell_type": "code",
   "execution_count": null,
   "id": "abbb1cc0",
   "metadata": {},
   "outputs": [],
   "source": []
  },
  {
   "cell_type": "code",
   "execution_count": 60,
   "id": "ad416638",
   "metadata": {},
   "outputs": [
    {
     "name": "stdout",
     "output_type": "stream",
     "text": [
      "{'Name': 'Kunal', 'Designation': 'Data Scientist', 'Salary': 80000}\n"
     ]
    }
   ],
   "source": [
    "# 6. WAP to delete required keys from a dictionary.\n",
    "\n",
    "emplyee = {\"Name\": \"Kunal\", \"age\": 28, \"Designation\": \"Data Scientist\", \"Salary\": 80000, \"City\": \"Banglore\"}\n",
    "\n",
    "keys =['age', 'City']\n",
    "# Check the required keys in given list and remove them using pop function.\n",
    "\n",
    "for k in keys:\n",
    "    emplyee.pop(k)\n",
    "print(emplyee)"
   ]
  },
  {
   "cell_type": "code",
   "execution_count": null,
   "id": "867fc6c4",
   "metadata": {},
   "outputs": [],
   "source": []
  },
  {
   "cell_type": "code",
   "execution_count": 68,
   "id": "358fb352",
   "metadata": {},
   "outputs": [
    {
     "name": "stdout",
     "output_type": "stream",
     "text": [
      "Salary is present in dictionary\n"
     ]
    }
   ],
   "source": [
    "# 7. WAP to check required key is present in dictionary or not.\n",
    "\n",
    "emplyee = {\"Name\": \"Kunal\", \"age\": 28, \"Designation\": \"Data Scientist\", \"Salary\": 80000, \"City\": \"Banglore\"}\n",
    "\n",
    "\n",
    "# Soln 1 :-\n",
    "for k in emplyee:      # using for loop \n",
    "    if emplyee[k] == 80000:\n",
    "        print('Salary is present in dictionary')\n",
    "        \n",
    "if 80000 in emplyee:\n",
    "    print('Salary is present in dictionary')\n",
    "    "
   ]
  },
  {
   "cell_type": "code",
   "execution_count": 72,
   "id": "faa70f2f",
   "metadata": {},
   "outputs": [
    {
     "name": "stdout",
     "output_type": "stream",
     "text": [
      "Salary is present in dictionary\n"
     ]
    }
   ],
   "source": [
    "# Soln 2:- \n",
    "\n",
    "emplyee = {\"Name\": \"Kunal\", \"age\": 28, \"Designation\": \"Data Scientist\", \"Salary\": 80000, \"City\": \"Banglore\"}\n",
    "\n",
    "if 80000 in emplyee.values():   # direct accessing values of given key.\n",
    "    print('Salary is present in dictionary')\n",
    "    "
   ]
  },
  {
   "cell_type": "code",
   "execution_count": null,
   "id": "a9d377b9",
   "metadata": {},
   "outputs": [],
   "source": []
  },
  {
   "cell_type": "code",
   "execution_count": 97,
   "id": "6b33e765",
   "metadata": {},
   "outputs": [
    {
     "name": "stdout",
     "output_type": "stream",
     "text": [
      "{'Name': 'Kunal', 'age': 28, 'Designation': 'Data Scientist', 'Salary': 80000, 'location': 'Banglore'}\n"
     ]
    }
   ],
   "source": [
    "# 8. WAP to rename required keys from a dictionary.\n",
    "\n",
    "emplyee = {\"Name\": \"Kunal\", \"age\": 28, \"Designation\": \"Data Scientist\", \"Salary\": 80000, \"City\": \"Banglore\"}\n",
    "\n",
    "# Soln 1:-  By deleting the key and adding new key with same value\n",
    "emplyee.pop('City')\n",
    "emplyee.update({'location' : 'Banglore'})\n",
    "print(emplyee)"
   ]
  },
  {
   "cell_type": "code",
   "execution_count": 98,
   "id": "4a7c21ff",
   "metadata": {},
   "outputs": [
    {
     "name": "stdout",
     "output_type": "stream",
     "text": [
      "{'Name': 'Kunal', 'age': 28, 'Designation': 'Data Scientist', 'Salary': 80000, 'City': 'Banglore'}\n"
     ]
    }
   ],
   "source": [
    "# Soln 2:-  By using pop function\n",
    "emplyee['City'] = emplyee.pop('location')\n",
    "print(emplyee)"
   ]
  },
  {
   "cell_type": "code",
   "execution_count": null,
   "id": "5c3ad44d",
   "metadata": {},
   "outputs": [],
   "source": []
  },
  {
   "cell_type": "code",
   "execution_count": 119,
   "id": "ee912536",
   "metadata": {},
   "outputs": [
    {
     "name": "stdout",
     "output_type": "stream",
     "text": [
      "Employee of minimum age = George\n"
     ]
    }
   ],
   "source": [
    "# 9. WAP to find minimum value from given dictionary.\n",
    "emply_age = {'Ashok': 35, 'Shekhar': 30, 'Zuber': 40, 'George': 25, 'Manpreet': 28}\n",
    "\n",
    "# Soln 1:- By using loop.\n",
    "name = list(emply_age.keys())\n",
    "age = list(emply_age.values())\n",
    "minm = emply_age['Ashok']\n",
    "for k in emply_age:\n",
    "    if emply_age[k] < minm:\n",
    "        minm = emply_age[k]\n",
    "\n",
    "employee = age.index(minm)\n",
    "print('Employee of minimum age =', name[employee])"
   ]
  },
  {
   "cell_type": "code",
   "execution_count": 121,
   "id": "11a2fcb1",
   "metadata": {},
   "outputs": [
    {
     "name": "stdout",
     "output_type": "stream",
     "text": [
      "Employee of minimum age is =  George\n"
     ]
    }
   ],
   "source": [
    "# Soln 2:- By using builtin fun min().\n",
    "\n",
    "minm = min(emply_age, key = emply_age.get)\n",
    "print('Employee of minimum age is = ',  minm)"
   ]
  },
  {
   "cell_type": "code",
   "execution_count": null,
   "id": "0856149d",
   "metadata": {},
   "outputs": [],
   "source": []
  },
  {
   "cell_type": "code",
   "execution_count": 129,
   "id": "7f184a54",
   "metadata": {},
   "outputs": [
    {
     "name": "stdout",
     "output_type": "stream",
     "text": [
      "{'emp1': {'name': 'Rahul', 'salary': 75000}, 'emp2': {'name': 'Nisha', 'salary': 80000}, 'emp3': {'name': 'Robin', 'salary': 55000}}\n"
     ]
    }
   ],
   "source": [
    "# 10. WAP to change the value of key in netsed dictionary.\n",
    "      # Change salary of Robin to 55000.\n",
    "\n",
    "salary = {'emp1': {'name': 'Rahul', 'salary': 75000}, 'emp2': {'name': 'Nisha', 'salary': 80000},'emp3': \n",
    "          {'name': 'Robin', 'salary': 50000}}\n",
    "\n",
    "salary['emp3']['salary'] = 55000\n",
    "\n",
    "print(salary)\n"
   ]
  },
  {
   "cell_type": "code",
   "execution_count": null,
   "id": "05f040ab",
   "metadata": {},
   "outputs": [],
   "source": []
  }
 ],
 "metadata": {
  "kernelspec": {
   "display_name": "Python 3 (ipykernel)",
   "language": "python",
   "name": "python3"
  },
  "language_info": {
   "codemirror_mode": {
    "name": "ipython",
    "version": 3
   },
   "file_extension": ".py",
   "mimetype": "text/x-python",
   "name": "python",
   "nbconvert_exporter": "python",
   "pygments_lexer": "ipython3",
   "version": "3.9.7"
  }
 },
 "nbformat": 4,
 "nbformat_minor": 5
}
